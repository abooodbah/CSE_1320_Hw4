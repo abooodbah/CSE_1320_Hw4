{
 "cells": [
  {
   "cell_type": "code",
   "execution_count": null,
   "metadata": {},
   "outputs": [],
   "source": [
    "def perform_shift_operation(bin_str, direction, num_shifts, num_bits):\n",
    "    # Convert binary string to signed integer\n",
    "    num = int(bin_str, 2)\n",
    "\n",
    "    # Perform the shift operation based on the direction\n",
    "    if direction == 'left':\n",
    "        result = num << num_shifts\n",
    "    elif direction == 'right':\n",
    "        result = num >> num_shifts\n",
    "    else:\n",
    "        raise ValueError(\"Invalid shift direction.\")\n",
    "\n",
    "    # Apply bitwise AND to limit the result to the specified number of bits\n",
    "    result = result & ((1 << num_bits) - 1)\n",
    "\n",
    "    # Convert the result back to a binary string with the specified number of bits\n",
    "    bin_result = format(result & ((2 ** num_bits) - 1), '0' + str(num_bits) + 'b')\n",
    "\n",
    "    return bin_result\n",
    "\n",
    "\n",
    "\n",
    "binary_str = input(\"Enter the binary number: \")\n",
    "shift_direction = input(\"Enter the shift direction (left/right): \")\n",
    "num_shifts = int(input(\"Enter the number of shift positions: \"))\n",
    "num_bits = int(input(\"Enter the number of bits in the result: \"))\n",
    "\n",
    "\n",
    "result = perform_shift_operation(binary_str, shift_direction, num_shifts, num_bits)\n",
    "print(\"Result: \", result)"
   ]
  },
  {
   "cell_type": "markdown",
   "metadata": {},
   "source": [
    "given values in the question:\n",
    "\n",
    "x: 00001010\n",
    "y: 11110110"
   ]
  }
 ],
 "metadata": {
  "kernelspec": {
   "display_name": "Python 3",
   "language": "python",
   "name": "python3"
  },
  "language_info": {
   "codemirror_mode": {
    "name": "ipython",
    "version": 3
   },
   "file_extension": ".py",
   "mimetype": "text/x-python",
   "name": "python",
   "nbconvert_exporter": "python",
   "pygments_lexer": "ipython3",
   "version": "3.6.9"
  }
 },
 "nbformat": 4,
 "nbformat_minor": 4
}
