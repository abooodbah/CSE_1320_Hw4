{
 "cells": [
  {
   "cell_type": "code",
   "execution_count": 7,
   "metadata": {},
   "outputs": [
    {
     "name": "stdout",
     "output_type": "stream",
     "text": [
      "Enter the binary number: 00001010\n",
      "Enter the shift direction (left/right): right\n",
      "Enter the number of shift positions: 2\n",
      "Enter the number of bits in the result: 8\n",
      "Result:  00000010\n"
     ]
    }
   ],
   "source": [
    "def perform_shift_operation(bin_str, direction, num_shifts, num_bits):\n",
    "    # Convert binary string to signed integer\n",
    "    num = int(bin_str, 2)\n",
    "\n",
    "    # Perform the shift operation based on the direction\n",
    "    if direction == 'left':\n",
    "        result = num << num_shifts\n",
    "    elif direction == 'right':\n",
    "        result = num >> num_shifts\n",
    "    else:\n",
    "        raise ValueError(\"Invalid shift direction.\")\n",
    "\n",
    "    # Apply bitwise AND to limit the result to the specified number of bits\n",
    "    result = result & ((1 << num_bits) - 1)\n",
    "\n",
    "    # Convert the result back to a binary string with the specified number of bits\n",
    "    bin_result = format(result & ((2 ** num_bits) - 1), '0' + str(num_bits) + 'b')\n",
    "\n",
    "    return bin_result\n",
    "\n",
    "\n",
    "\n",
    "binary_str = input(\"Enter the binary number: \")\n",
    "shift_direction = input(\"Enter the shift direction (left/right): \")\n",
    "num_shifts = int(input(\"Enter the number of shift positions: \"))\n",
    "num_bits = int(input(\"Enter the number of bits in the result: \"))\n",
    "\n",
    "\n",
    "result = perform_shift_operation(binary_str, shift_direction, num_shifts, num_bits)\n",
    "print(\"Result: \", result)"
   ]
  },
  {
   "cell_type": "markdown",
   "metadata": {},
   "source": [
    "given values in the question:\n",
    "\n",
    "x: 00001010\n",
    "y: 11110110"
   ]
  },
  {
   "cell_type": "code",
   "execution_count": 10,
   "metadata": {},
   "outputs": [
    {
     "name": "stdout",
     "output_type": "stream",
     "text": [
      "Enter the binary number: 00001010\n",
      "Number of Shifts: 2\n",
      "Left Shift:\n",
      "Direction: left, Result: 00101000\n",
      "Right Shift:\n",
      "Direction: right, Result: 00000010\n",
      "\n",
      "Number of Shifts: 3\n",
      "Left Shift:\n",
      "Direction: left, Result: 01010000\n",
      "Right Shift:\n",
      "Direction: right, Result: 00000001\n",
      "\n",
      "Number of Shifts: 4\n",
      "Left Shift:\n",
      "Direction: left, Result: 10100000\n",
      "Right Shift:\n",
      "Direction: right, Result: 00000000\n",
      "\n",
      "Number of Shifts: 5\n",
      "Left Shift:\n",
      "Direction: left, Result: 01000000\n",
      "Right Shift:\n",
      "Direction: right, Result: 00000000\n",
      "\n"
     ]
    }
   ],
   "source": [
    "binary_str = input(\"Enter the binary number: \")\n",
    "num_bits = len(binary_str)\n",
    "\n",
    "for num_shifts in range(2, 6):\n",
    "    print(\"Number of Shifts:\", num_shifts)\n",
    "\n",
    "    print(\"Left Shift:\")\n",
    "    direction = \"left\"\n",
    "    result = perform_shift_operation(binary_str, direction, num_shifts, num_bits)\n",
    "    print(f\"Direction: {direction}, Result: {result}\")\n",
    "\n",
    "    print(\"Right Shift:\")\n",
    "    direction = 'right'\n",
    "    result = perform_shift_operation(binary_str, direction, num_shifts, num_bits)\n",
    "    print(f\"Direction: {direction}, Result: {result}\")\n",
    "\n",
    "    print()"
   ]
  },
  {
   "cell_type": "code",
   "execution_count": 11,
   "metadata": {},
   "outputs": [
    {
     "name": "stdout",
     "output_type": "stream",
     "text": [
      "Enter the binary number: 11110110\n",
      "Number of Shifts: 2\n",
      "Left Shift:\n",
      "Direction: left, Result: 11011000\n",
      "Right Shift:\n",
      "Direction: right, Result: 00111101\n",
      "\n",
      "Number of Shifts: 3\n",
      "Left Shift:\n",
      "Direction: left, Result: 10110000\n",
      "Right Shift:\n",
      "Direction: right, Result: 00011110\n",
      "\n",
      "Number of Shifts: 4\n",
      "Left Shift:\n",
      "Direction: left, Result: 01100000\n",
      "Right Shift:\n",
      "Direction: right, Result: 00001111\n",
      "\n",
      "Number of Shifts: 5\n",
      "Left Shift:\n",
      "Direction: left, Result: 11000000\n",
      "Right Shift:\n",
      "Direction: right, Result: 00000111\n",
      "\n"
     ]
    }
   ],
   "source": [
    "binary_str = input(\"Enter the binary number: \")\n",
    "num_bits = len(binary_str)\n",
    "\n",
    "for num_shifts in range(2, 6):\n",
    "    print(\"Number of Shifts:\", num_shifts)\n",
    "\n",
    "    print(\"Left Shift:\")\n",
    "    direction = \"left\"\n",
    "    result = perform_shift_operation(binary_str, direction, num_shifts, num_bits)\n",
    "    print(f\"Direction: {direction}, Result: {result}\")\n",
    "\n",
    "    print(\"Right Shift:\")\n",
    "    direction = 'right'\n",
    "    result = perform_shift_operation(binary_str, direction, num_shifts, num_bits)\n",
    "    print(f\"Direction: {direction}, Result: {result}\")\n",
    "\n",
    "    print()"
   ]
  },
  {
   "cell_type": "code",
   "execution_count": null,
   "metadata": {},
   "outputs": [],
   "source": []
  }
 ],
 "metadata": {
  "kernelspec": {
   "display_name": "Python 3",
   "language": "python",
   "name": "python3"
  },
  "language_info": {
   "codemirror_mode": {
    "name": "ipython",
    "version": 3
   },
   "file_extension": ".py",
   "mimetype": "text/x-python",
   "name": "python",
   "nbconvert_exporter": "python",
   "pygments_lexer": "ipython3",
   "version": "3.6.9"
  }
 },
 "nbformat": 4,
 "nbformat_minor": 4
}
