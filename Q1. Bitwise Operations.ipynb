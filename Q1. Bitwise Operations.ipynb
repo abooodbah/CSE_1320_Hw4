{
 "cells": [
  {
   "cell_type": "code",
   "execution_count": 2,
   "metadata": {},
   "outputs": [
    {
     "name": "stdout",
     "output_type": "stream",
     "text": [
      "Enter the first binary string: 11010101\n",
      "Enter the second binary string: \n",
      "Enter the bitwise operator (|, &, ^, ~): ~\n",
      "Enter the number of bits in the result: 8\n",
      "Result:  00101010\n"
     ]
    }
   ],
   "source": [
    "def bitwise_operation(bin_str1, bin_str2, operator, num_bits):\n",
    "    if operator == \"~\":\n",
    "        # Not operand only applies to the first number inputted\n",
    "        int1 = int(bin_str1, 2)\n",
    "        result = ~int1\n",
    "    else:\n",
    "        # Convert string to integer\n",
    "        int1 = int(bin_str1, 2)\n",
    "        int2 = int(bin_str2, 2)\n",
    "\n",
    "        # Perform the specified bitwise operation\n",
    "        if operator == \"|\":\n",
    "            result = int1 | int2\n",
    "        elif operator == \"&\":\n",
    "            result = int1 & int2\n",
    "        elif operator == \"^\":\n",
    "            result = int1 ^ int2\n",
    "        else:\n",
    "            raise ValueError(\"Invalid bitwise operator.\")\n",
    "\n",
    "    bin_result = format(result & (2 ** num_bits - 1), '0' + str(num_bits) + 'b')\n",
    "\n",
    "    return bin_result\n",
    "\n",
    "\n",
    "\n",
    "binary_str1 = input(\"Enter the first binary string: \")\n",
    "binary_str2 = input(\"Enter the second binary string: \")\n",
    "bitwise_operator = input(\"Enter the bitwise operator (|, &, ^, ~): \")\n",
    "num_bits = int(input(\"Enter the number of bits in the result: \"))\n",
    "\n",
    "result = bitwise_operation(binary_str1, binary_str2, bitwise_operator, num_bits)\n",
    "print(\"Result: \", result)"
   ]
  },
  {
   "cell_type": "code",
   "execution_count": null,
   "metadata": {},
   "outputs": [],
   "source": [
    "\n"
   ]
  }
 ],
 "metadata": {
  "kernelspec": {
   "display_name": "Python 3",
   "language": "python",
   "name": "python3"
  },
  "language_info": {
   "codemirror_mode": {
    "name": "ipython",
    "version": 3
   },
   "file_extension": ".py",
   "mimetype": "text/x-python",
   "name": "python",
   "nbconvert_exporter": "python",
   "pygments_lexer": "ipython3",
   "version": "3.6.9"
  }
 },
 "nbformat": 4,
 "nbformat_minor": 4
}
